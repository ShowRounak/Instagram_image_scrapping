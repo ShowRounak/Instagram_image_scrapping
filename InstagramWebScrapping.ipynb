{
 "cells": [
  {
   "cell_type": "code",
   "execution_count": 1,
   "id": "6bad8f96",
   "metadata": {},
   "outputs": [
    {
     "name": "stdout",
     "output_type": "stream",
     "text": [
      "Collecting selenium\n",
      "  Downloading selenium-4.8.0-py3-none-any.whl (6.3 MB)\n",
      "     ---------------------------------------- 6.3/6.3 MB 3.0 MB/s eta 0:00:00\n",
      "Requirement already satisfied: urllib3[socks]~=1.26 in c:\\users\\rouna\\anaconda3\\envs\\datasciencebootcamp\\lib\\site-packages (from selenium) (1.26.12)\n",
      "Requirement already satisfied: certifi>=2021.10.8 in c:\\users\\rouna\\anaconda3\\envs\\datasciencebootcamp\\lib\\site-packages (from selenium) (2022.12.7)\n",
      "Collecting trio-websocket~=0.9\n",
      "  Downloading trio_websocket-0.9.2-py3-none-any.whl (16 kB)\n",
      "Collecting trio~=0.17\n",
      "  Downloading trio-0.22.0-py3-none-any.whl (384 kB)\n",
      "     -------------------------------------- 384.9/384.9 kB 5.9 MB/s eta 0:00:00\n",
      "Collecting outcome\n",
      "  Downloading outcome-1.2.0-py2.py3-none-any.whl (9.7 kB)\n",
      "Collecting async-generator>=1.9\n",
      "  Downloading async_generator-1.10-py3-none-any.whl (18 kB)\n",
      "Collecting sniffio\n",
      "  Downloading sniffio-1.3.0-py3-none-any.whl (10 kB)\n",
      "Collecting exceptiongroup>=1.0.0rc9\n",
      "  Downloading exceptiongroup-1.1.0-py3-none-any.whl (14 kB)\n",
      "Requirement already satisfied: cffi>=1.14 in c:\\users\\rouna\\anaconda3\\envs\\datasciencebootcamp\\lib\\site-packages (from trio~=0.17->selenium) (1.15.1)\n",
      "Requirement already satisfied: attrs>=19.2.0 in c:\\users\\rouna\\anaconda3\\envs\\datasciencebootcamp\\lib\\site-packages (from trio~=0.17->selenium) (21.4.0)\n",
      "Requirement already satisfied: idna in c:\\users\\rouna\\anaconda3\\envs\\datasciencebootcamp\\lib\\site-packages (from trio~=0.17->selenium) (3.4)\n",
      "Collecting sortedcontainers\n",
      "  Downloading sortedcontainers-2.4.0-py2.py3-none-any.whl (29 kB)\n",
      "Collecting wsproto>=0.14\n",
      "  Downloading wsproto-1.2.0-py3-none-any.whl (24 kB)\n",
      "Collecting PySocks!=1.5.7,<2.0,>=1.5.6\n",
      "  Downloading PySocks-1.7.1-py3-none-any.whl (16 kB)\n",
      "Requirement already satisfied: pycparser in c:\\users\\rouna\\anaconda3\\envs\\datasciencebootcamp\\lib\\site-packages (from cffi>=1.14->trio~=0.17->selenium) (2.21)\n",
      "Collecting h11<1,>=0.9.0\n",
      "  Downloading h11-0.14.0-py3-none-any.whl (58 kB)\n",
      "     ---------------------------------------- 58.3/58.3 kB 3.0 MB/s eta 0:00:00\n",
      "Installing collected packages: sortedcontainers, sniffio, PySocks, outcome, h11, exceptiongroup, async-generator, wsproto, trio, trio-websocket, selenium\n",
      "Successfully installed PySocks-1.7.1 async-generator-1.10 exceptiongroup-1.1.0 h11-0.14.0 outcome-1.2.0 selenium-4.8.0 sniffio-1.3.0 sortedcontainers-2.4.0 trio-0.22.0 trio-websocket-0.9.2 wsproto-1.2.0\n",
      "Note: you may need to restart the kernel to use updated packages.\n"
     ]
    }
   ],
   "source": [
    "pip install selenium"
   ]
  },
  {
   "cell_type": "code",
   "execution_count": 3,
   "id": "d351f226",
   "metadata": {},
   "outputs": [
    {
     "name": "stdout",
     "output_type": "stream",
     "text": [
      "Collecting wget\n",
      "  Downloading wget-3.2.zip (10 kB)\n",
      "  Preparing metadata (setup.py): started\n",
      "  Preparing metadata (setup.py): finished with status 'done'\n",
      "Building wheels for collected packages: wget\n",
      "  Building wheel for wget (setup.py): started\n",
      "  Building wheel for wget (setup.py): finished with status 'done'\n",
      "  Created wheel for wget: filename=wget-3.2-py3-none-any.whl size=9657 sha256=a731fecfd33dd3b411bdb5439b5b93f47c7f2ed6e2b4584554cc162dedc5789c\n",
      "  Stored in directory: c:\\users\\rouna\\appdata\\local\\pip\\cache\\wheels\\04\\5f\\3e\\46cc37c5d698415694d83f607f833f83f0149e49b3af9d0f38\n",
      "Successfully built wget\n",
      "Installing collected packages: wget\n",
      "Successfully installed wget-3.2\n",
      "Note: you may need to restart the kernel to use updated packages.\n"
     ]
    }
   ],
   "source": [
    "pip install wget"
   ]
  },
  {
   "cell_type": "code",
   "execution_count": 1,
   "id": "c215b97a",
   "metadata": {},
   "outputs": [],
   "source": [
    "#selenium imports\n",
    "\n",
    "from selenium import webdriver\n",
    "from selenium.webdriver.common.keys import Keys\n",
    "from selenium.webdriver.support import expected_conditions as EC\n",
    "from selenium.webdriver.common.by import By\n",
    "from selenium.webdriver.support.wait import WebDriverWait"
   ]
  },
  {
   "cell_type": "code",
   "execution_count": 2,
   "id": "c7d1fa15",
   "metadata": {},
   "outputs": [],
   "source": [
    "#other Imports\n",
    "\n",
    "import os\n",
    "import wget"
   ]
  },
  {
   "cell_type": "markdown",
   "id": "02870fc7",
   "metadata": {},
   "source": [
    "## Log In to Instagram Account"
   ]
  },
  {
   "cell_type": "code",
   "execution_count": 30,
   "id": "193c30e7",
   "metadata": {},
   "outputs": [
    {
     "name": "stderr",
     "output_type": "stream",
     "text": [
      "C:\\Users\\rouna\\AppData\\Local\\Temp\\ipykernel_26292\\3289097212.py:1: DeprecationWarning: executable_path has been deprecated, please pass in a Service object\n",
      "  driver = webdriver.Chrome('C:/Users/rouna/Downloads/chromedriver_win32/chromedriver.exe')\n"
     ]
    }
   ],
   "source": [
    "driver = webdriver.Chrome('C:/Users/rouna/Downloads/chromedriver_win32/chromedriver.exe')\n",
    "\n",
    "driver.get('https://www.instagram.com')\n",
    "\n",
    "username = WebDriverWait(driver, 10).until(EC.element_to_be_clickable((By.CSS_SELECTOR, \"input[name='username']\")))\n",
    "password = WebDriverWait(driver, 10).until(EC.element_to_be_clickable((By.CSS_SELECTOR, \"input[name='password']\")))\n",
    "\n",
    "username.clear()\n",
    "password.clear()\n",
    "\n",
    "username.send_keys(\"username\")\n",
    "password.send_keys(\"password\")\n",
    "\n",
    "loginButton = WebDriverWait(driver, 10).until(EC.element_to_be_clickable((By.CSS_SELECTOR, \"button[type='submit']\")))\n",
    "loginButton.click()"
   ]
  },
  {
   "cell_type": "markdown",
   "id": "0ac61d1b",
   "metadata": {},
   "source": [
    "## Dismiss Pop-up messages"
   ]
  },
  {
   "cell_type": "code",
   "execution_count": 31,
   "id": "4566a780",
   "metadata": {},
   "outputs": [],
   "source": [
    "not_now = WebDriverWait(driver, 10).until(EC.element_to_be_clickable((By.XPATH, '//button[contains(text(), \"Not Now\")]')))\n",
    "not_now.click()"
   ]
  },
  {
   "cell_type": "code",
   "execution_count": 32,
   "id": "057caddc",
   "metadata": {},
   "outputs": [],
   "source": [
    "not_now2 = WebDriverWait(driver, 10).until(EC.element_to_be_clickable((By.XPATH, '//button[contains(text(), \"Not Now\")]')))\n",
    "not_now2.click()"
   ]
  },
  {
   "cell_type": "markdown",
   "id": "9d622836",
   "metadata": {},
   "source": [
    "## Search for a Keyword"
   ]
  },
  {
   "cell_type": "code",
   "execution_count": 33,
   "id": "f1bfdadf",
   "metadata": {},
   "outputs": [],
   "source": [
    "search = WebDriverWait(driver, 10).until(EC.element_to_be_clickable((By.CSS_SELECTOR, \"a[href='#']\"))).click()"
   ]
  },
  {
   "cell_type": "code",
   "execution_count": 34,
   "id": "2748e93a",
   "metadata": {},
   "outputs": [],
   "source": [
    "searchbox = WebDriverWait(driver, 10).until(EC.element_to_be_clickable((By.CSS_SELECTOR, \"input[placeholder='Search']\")))\n",
    "searchbox.clear()\n",
    "\n",
    "keyword = \"#cat\"\n",
    "searchbox.send_keys(keyword)\n",
    "searchbox.send_keys(Keys.ENTER) #hit enter"
   ]
  },
  {
   "cell_type": "code",
   "execution_count": 36,
   "id": "7da8b4c8",
   "metadata": {},
   "outputs": [],
   "source": [
    "searchbox.send_keys(Keys.ENTER) #hit enter 2nd time for unknown reasons"
   ]
  },
  {
   "cell_type": "markdown",
   "id": "b8223153",
   "metadata": {},
   "source": [
    "## Scroll down along the page and select all the images"
   ]
  },
  {
   "cell_type": "code",
   "execution_count": 41,
   "id": "fda7e608",
   "metadata": {},
   "outputs": [
    {
     "data": {
      "text/plain": [
       "['https://scontent.cdninstagram.com/v/t51.2885-19/28152398_157999588343424_2005501044330594304_n.jpg?stp=dst-jpg_s150x150&_nc_ht=scontent.cdninstagram.com&_nc_cat=100&_nc_ohc=3B_a7YvfT08AX8Mly6C&edm=APs17CUBAAAA&ccb=7-5&oh=00_AfDxE-tZI915rCdc9JYxkS7oqFn7ZJi_JJeCX6mgXVyZBw&oe=63E03944&_nc_sid=978cb9',\n",
       " 'https://instagram.fccu2-3.fna.fbcdn.net/v/t51.2885-15/327999249_881667499818756_8888395195351989215_n.webp?stp=dst-jpg_e35&_nc_ht=instagram.fccu2-3.fna.fbcdn.net&_nc_cat=100&_nc_ohc=S7y35im1cT8AX890krq&tn=02XRub5atHvxRwDR&edm=AGyKU4gBAAAA&ccb=7-5&ig_cache_key=MzAyODUwMjM1NTMxNzY4Mjk0Ng%3D%3D.2-ccb7-5&oh=00_AfBrZo76azgwDbp6-o_CveT_xfbFkYteP5oBdGxIWX25Gg&oe=63DFBB11&_nc_sid=4cb768',\n",
       " 'https://instagram.fccu2-3.fna.fbcdn.net/v/t51.2885-15/328227413_216562667430704_8569162593851292131_n.webp?stp=dst-jpg_e35&_nc_ht=instagram.fccu2-3.fna.fbcdn.net&_nc_cat=108&_nc_ohc=Mx5282Xq8QIAX9BpGng&tn=02XRub5atHvxRwDR&edm=AGyKU4gBAAAA&ccb=7-5&ig_cache_key=MzAyODU3MjczMDY5NzE5NDczNw%3D%3D.2-ccb7-5&oh=00_AfDM0N8vmPSM1zpoSNalXsSXZTFN33sVZQVk95mgz9DDpA&oe=63DEB66A&_nc_sid=4cb768',\n",
       " 'https://instagram.fccu2-1.fna.fbcdn.net/v/t51.2885-15/328146968_1654848498266803_2257310687749363159_n.jpg?stp=dst-jpg_e35&_nc_ht=instagram.fccu2-1.fna.fbcdn.net&_nc_cat=107&_nc_ohc=X3fUBn1GLs0AX92l4jX&tn=02XRub5atHvxRwDR&edm=AGyKU4gBAAAA&ccb=7-5&ig_cache_key=MzAyODQzNzU5Nzc0NzAzMjk3MA%3D%3D.2-ccb7-5&oh=00_AfCy36teCP8PWbhQ_Hm68asSNbutrtnSyMkDYeP-Hoc6-A&oe=63DFBEB4&_nc_sid=4cb768',\n",
       " 'https://instagram.fccu2-4.fna.fbcdn.net/v/t51.2885-15/328165890_880434849933845_8143413219528256678_n.jpg?stp=dst-jpg_e15&_nc_ht=instagram.fccu2-4.fna.fbcdn.net&_nc_cat=105&_nc_ohc=T1WHSnHCWK0AX-LSE4Q&edm=AGyKU4gBAAAA&ccb=7-5&ig_cache_key=MzAyODU2MTc2MTE2NjM2MTMzNA%3D%3D.2-ccb7-5&oh=00_AfA_PD37QtXhHwufVoU0QDY-UW71j0VIRUR4WuJWvNGdUA&oe=63DF2B7B&_nc_sid=4cb768',\n",
       " 'https://instagram.fccu2-1.fna.fbcdn.net/v/t51.2885-15/328351441_1330392397503022_8071402759991453395_n.webp?stp=dst-jpg_e35&_nc_ht=instagram.fccu2-1.fna.fbcdn.net&_nc_cat=110&_nc_ohc=dNaqMkth5AUAX_q7lcr&edm=AGyKU4gBAAAA&ccb=7-5&ig_cache_key=MzAyODUyMjI2NzQ1NzExNTQyMw%3D%3D.2-ccb7-5&oh=00_AfCxxUbIHfUnfXFy98tgxJ8s-TMQEceM-oGZqjEcFWCNUA&oe=63DF552C&_nc_sid=4cb768',\n",
       " 'https://instagram.fccu2-3.fna.fbcdn.net/v/t51.2885-15/328004581_162089649945308_7094524438202785664_n.jpg?stp=dst-jpg_e35&_nc_ht=instagram.fccu2-3.fna.fbcdn.net&_nc_cat=108&_nc_ohc=Ag93uCRVem8AX-Z72LG&edm=AGyKU4gBAAAA&ccb=7-5&ig_cache_key=MzAyODE1Mzc0NTE4MTA1NTM4NA%3D%3D.2-ccb7-5&oh=00_AfBDiTpYRNXoiWaeO3lQInLIopiuaAeY5rO_DFCNjkzneg&oe=63E018BE&_nc_sid=4cb768',\n",
       " 'https://instagram.fccu2-4.fna.fbcdn.net/v/t51.2885-15/328089210_743686327173077_3229477316816794593_n.jpg?stp=dst-jpg_e35&_nc_ht=instagram.fccu2-4.fna.fbcdn.net&_nc_cat=105&_nc_ohc=jyZ-_cqs4icAX9idX0i&edm=AGyKU4gBAAAA&ccb=7-5&ig_cache_key=MzAyODY0MjgyMzk3NjI5NTIxOQ%3D%3D.2-ccb7-5&oh=00_AfCGAjVGg55aFzPhc4ngqfn7FvEbjqdoD_PdQoIF1oLsSQ&oe=63DFA93F&_nc_sid=4cb768',\n",
       " 'https://instagram.fccu2-2.fna.fbcdn.net/v/t51.2885-15/328450363_149247384598129_9210728665746746252_n.jpg?stp=dst-jpg_e35&_nc_ht=instagram.fccu2-2.fna.fbcdn.net&_nc_cat=101&_nc_ohc=2oagMbRikQYAX9UbAmq&edm=AGyKU4gBAAAA&ccb=7-5&ig_cache_key=MzAyODU5MDU0ODYzOTkxNDAzOQ%3D%3D.2-ccb7-5&oh=00_AfACT_oB2ZtOygiUXBpaUp0mAVKWLfhf0Z4wLtrJcy0dUQ&oe=63DF4A68&_nc_sid=4cb768',\n",
       " 'https://instagram.fccu2-4.fna.fbcdn.net/v/t51.2885-15/328316200_719496726244143_6578133129916142888_n.jpg?stp=dst-jpg_e35&_nc_ht=instagram.fccu2-4.fna.fbcdn.net&_nc_cat=103&_nc_ohc=FkKKV1u4croAX8OCu_O&tn=02XRub5atHvxRwDR&edm=AGyKU4gBAAAA&ccb=7-5&ig_cache_key=MzAyODU0NzQ3Mzg0MDI1MTQwNA%3D%3D.2-ccb7-5&oh=00_AfBNQAkQ0ypIh0ZJLV9lAHhMGGHqVX1EHYkY9VePzjg-PA&oe=63DFBF71&_nc_sid=4cb768',\n",
       " 'https://instagram.fccu2-3.fna.fbcdn.net/v/t51.2885-15/328120267_972576017055636_6019128285234576911_n.jpg?stp=dst-jpg_e35&_nc_ht=instagram.fccu2-3.fna.fbcdn.net&_nc_cat=100&_nc_ohc=LGZOWSlfKDcAX8_9eIG&edm=AGyKU4gBAAAA&ccb=7-5&ig_cache_key=MzAyODY0ODQ3MjUzOTI3MTYyMw%3D%3D.2-ccb7-5&oh=00_AfDi-qeYW02m8K2pDgQCoFFRhQ0miZrKsD5v2Zrqz2zNIw&oe=63DFEB5E&_nc_sid=4cb768',\n",
       " 'https://instagram.fccu2-4.fna.fbcdn.net/v/t51.2885-15/328247497_577222430929625_6166185374132024419_n.jpg?stp=dst-jpg_e35&_nc_ht=instagram.fccu2-4.fna.fbcdn.net&_nc_cat=105&_nc_ohc=NKwIm_D431kAX85uaxJ&tn=02XRub5atHvxRwDR&edm=AGyKU4gBAAAA&ccb=7-5&ig_cache_key=MzAyODY0ODU5NDUyNjM0NzU0OA%3D%3D.2-ccb7-5&oh=00_AfCeNzvfS7M4mBhyDkOUBAkm1SdWfSTX5qwAPQljrINQxw&oe=63DF6C62&_nc_sid=4cb768',\n",
       " 'https://instagram.fccu2-2.fna.fbcdn.net/v/t51.2885-15/328022906_736730471099802_5464360560676425609_n.webp?stp=dst-jpg_e35&_nc_ht=instagram.fccu2-2.fna.fbcdn.net&_nc_cat=106&_nc_ohc=2gPjUHP3hH8AX_4DI7A&edm=AGyKU4gBAAAA&ccb=7-5&ig_cache_key=MzAyODY0ODU4MjcxMzY0NjExMA%3D%3D.2-ccb7-5&oh=00_AfCTaBgxHS5pDF28pCPTi6bOp_j_68WDn0GF0Fnhvlrd7A&oe=63E04CE4&_nc_sid=4cb768',\n",
       " 'https://instagram.fccu2-4.fna.fbcdn.net/v/t51.2885-15/328491325_917698032739775_1282263046603679174_n.jpg?stp=dst-jpg_e15&_nc_ht=instagram.fccu2-4.fna.fbcdn.net&_nc_cat=111&_nc_ohc=y4AtRFI4mZgAX-HxDRF&edm=AGyKU4gBAAAA&ccb=7-5&ig_cache_key=MzAyODYzODgzMzM1NjQ5NDExNg%3D%3D.2-ccb7-5&oh=00_AfDjsso7NnpqxlHapQAu6SR6AoGgJSyNVA4qTmjldrTAlw&oe=63DF4917&_nc_sid=4cb768',\n",
       " 'https://instagram.fccu2-2.fna.fbcdn.net/v/t51.2885-15/327958141_6219363204762025_1707585488173642508_n.webp?stp=dst-jpg_e35&_nc_ht=instagram.fccu2-2.fna.fbcdn.net&_nc_cat=101&_nc_ohc=lgoNcOPUMr0AX_-3dHD&edm=AGyKU4gBAAAA&ccb=7-5&ig_cache_key=MzAyODY0ODQ5MjE5MzI3Mzg5Mw%3D%3D.2-ccb7-5&oh=00_AfCJbcBqfmWxDzZN8KgHt-GuYjHjoTBYv2C66c69JT5QSA&oe=63DF0DF2&_nc_sid=4cb768',\n",
       " 'https://instagram.fccu2-4.fna.fbcdn.net/v/t51.2885-15/328152330_840684840363119_1741606412202270354_n.jpg?stp=dst-jpg_e35&_nc_ht=instagram.fccu2-4.fna.fbcdn.net&_nc_cat=111&_nc_ohc=jzIfd2oMLYcAX9ACoQ_&edm=AGyKU4gBAAAA&ccb=7-5&ig_cache_key=MzAyODY0ODYwNTAyODgyNDM1OQ%3D%3D.2-ccb7-5&oh=00_AfDBh1EQ40hVy7ryuQzU6NjE4hgwrWTXQzqm93GSHDoWcw&oe=63DFEA6F&_nc_sid=4cb768',\n",
       " 'https://instagram.fccu2-1.fna.fbcdn.net/v/t51.2885-15/328066244_6228353187176299_208441526861143366_n.jpg?stp=dst-jpg_e35&_nc_ht=instagram.fccu2-1.fna.fbcdn.net&_nc_cat=107&_nc_ohc=wbw1oUfFNd8AX8iZzPE&edm=AGyKU4gBAAAA&ccb=7-5&ig_cache_key=MzAyODY0ODUzMjc1MjQwODQ5Mg%3D%3D.2-ccb7-5&oh=00_AfDf9Xpp_yTPH4ogMowJGvOs124Tgo_LKx55GQSJlOGpfA&oe=63DFEFED&_nc_sid=4cb768',\n",
       " 'https://instagram.fccu2-4.fna.fbcdn.net/v/t51.2885-15/327927944_723374742509127_4904483791207241833_n.webp?stp=dst-jpg_e35&_nc_ht=instagram.fccu2-4.fna.fbcdn.net&_nc_cat=103&_nc_ohc=D-yAsfFCIc4AX_UZVa2&tn=02XRub5atHvxRwDR&edm=AGyKU4gBAAAA&ccb=7-5&ig_cache_key=MzAyODY0ODQyODE1MzQ0OTAwOA%3D%3D.2-ccb7-5&oh=00_AfCEXj4LKNXLDnMqM71KotoTjAqBMLFdz7ZxhlAXP8rAAw&oe=63DF8D02&_nc_sid=4cb768',\n",
       " 'https://instagram.fccu2-3.fna.fbcdn.net/v/t39.30808-6/326974587_730949248444526_2506995565421285678_n.jpg?stp=c0.64.1536.1920a_dst-jpg_e15&_nc_ht=instagram.fccu2-3.fna.fbcdn.net&_nc_cat=102&_nc_ohc=-4vrggxPs8oAX9eOrYp&edm=AGyKU4gAAAAA&ccb=7-5&ig_cache_key=MzAyODY0ODY2NjI3MzY4ODc1NA%3D%3D.2-ccb7-5&oh=00_AfDYCXOd2xg4HZvIuBRU5fW_HODXD_TA-hob8ezbH1AizQ&oe=63E011A3&_nc_sid=4cb768',\n",
       " 'https://instagram.fccu2-3.fna.fbcdn.net/v/t51.2885-15/328126419_169054115836502_7791365747534391935_n.jpg?stp=dst-jpg_e35&_nc_ht=instagram.fccu2-3.fna.fbcdn.net&_nc_cat=102&_nc_ohc=Ra77srqtLAkAX_qMmnz&tn=02XRub5atHvxRwDR&edm=AGyKU4gBAAAA&ccb=7-5&ig_cache_key=MzAyODY0ODUwNzAxNTA4OTMzNw%3D%3D.2-ccb7-5&oh=00_AfAx5XY4J49B0bePlGiuxiDkNLUnH2eQfX6Jm9v9wUoqbw&oe=63DE7E85&_nc_sid=4cb768',\n",
       " 'https://instagram.fccu2-3.fna.fbcdn.net/v/t51.2885-15/328342822_520003486677600_7919820311520948580_n.jpg?stp=dst-jpg_e35&_nc_ht=instagram.fccu2-3.fna.fbcdn.net&_nc_cat=100&_nc_ohc=Ls9Gd8vcFLkAX_qWN87&edm=AGyKU4gBAAAA&ccb=7-5&ig_cache_key=MzAyODY0ODUyNjE0MjM4NjI0MA%3D%3D.2-ccb7-5&oh=00_AfCBkivjHzqPBvDQChnxsc1SdOyLvgD7hVhAhBe9rlT2OQ&oe=63E01731&_nc_sid=4cb768',\n",
       " 'https://instagram.fccu2-3.fna.fbcdn.net/v/t51.2885-15/328498278_607456320778706_8792292160232380861_n.jpg?stp=dst-jpg_e35&_nc_ht=instagram.fccu2-3.fna.fbcdn.net&_nc_cat=102&_nc_ohc=tgvn5ahMLjAAX9XSVWv&edm=AGyKU4gBAAAA&ccb=7-5&ig_cache_key=MzAyODY0ODUwMTEwMTQ4NDYxMw%3D%3D.2-ccb7-5&oh=00_AfDDMiWc_Z44NP6801-z52WsVaPVMXkiq92YaMOGEXwtXw&oe=63DF42F6&_nc_sid=4cb768',\n",
       " 'https://instagram.fccu2-2.fna.fbcdn.net/v/t39.30808-6/327328397_3390407797939350_1033849169092250418_n.jpg?stp=dst-jpg_e35_s1080x1080_sh0.08&_nc_ht=instagram.fccu2-2.fna.fbcdn.net&_nc_cat=106&_nc_ohc=_5JdZHlpFLAAX-C9Kaz&edm=AGyKU4gAAAAA&ccb=7-5&ig_cache_key=MzAyODY0ODU4OTg0NDcxMzU0OA%3D%3D.2-ccb7-5&oh=00_AfA128tTP92Pan0pO54qWSkjgH52yLAgw_RluFv8R6anPw&oe=63DF6F2C&_nc_sid=4cb768',\n",
       " 'https://instagram.fccu2-3.fna.fbcdn.net/v/t51.2885-15/328278125_1230826507791420_4236541882160069490_n.webp?stp=dst-jpg_e35&_nc_ht=instagram.fccu2-3.fna.fbcdn.net&_nc_cat=100&_nc_ohc=5CBXufU6xcMAX9v9B4M&edm=AGyKU4gBAAAA&ccb=7-5&ig_cache_key=MzAyODY0ODM3ODU0MzczODU3NA%3D%3D.2-ccb7-5&oh=00_AfCRVQDlJoj9u6dgTy4o1SiBMNvPaagKeCIxhS49ocAeVg&oe=63DFBDF3&_nc_sid=4cb768',\n",
       " 'https://instagram.fccu2-4.fna.fbcdn.net/v/t51.2885-15/327512524_916814812673693_4789030265086892471_n.jpg?stp=dst-jpg_e35&_nc_ht=instagram.fccu2-4.fna.fbcdn.net&_nc_cat=105&_nc_ohc=CDLNn7zwyTgAX_JCaYp&edm=AGyKU4gBAAAA&ccb=7-5&ig_cache_key=MzAyODY0ODY5MDcyNTkwMDUwMA%3D%3D.2-ccb7-5&oh=00_AfCTj-KhynrG4HPIoTbIZXPXqloZ9AGyOMR7jEScN-Rwyw&oe=63E06A25&_nc_sid=4cb768',\n",
       " 'https://instagram.fccu2-1.fna.fbcdn.net/v/t51.2885-15/328565000_101006232900321_2473151207208953752_n.jpg?stp=dst-jpg_e35&_nc_ht=instagram.fccu2-1.fna.fbcdn.net&_nc_cat=109&_nc_ohc=nIyCsdPmrZIAX_rMxQZ&edm=AGyKU4gBAAAA&ccb=7-5&ig_cache_key=MzAyODY0ODY5ODk4MTM0Mjc3MA%3D%3D.2-ccb7-5&oh=00_AfDJagwjowi0h7KnOibj3cCaxdIA1ZXEPXb1EUMS8QFqsg&oe=63DFDBD7&_nc_sid=4cb768',\n",
       " 'https://instagram.fccu2-4.fna.fbcdn.net/v/t51.2885-15/328525540_134343399501699_1114464135986699580_n.jpg?stp=dst-jpg_e35&_nc_ht=instagram.fccu2-4.fna.fbcdn.net&_nc_cat=103&_nc_ohc=pTutnhjiYiUAX_XJ-2n&edm=AGyKU4gBAAAA&ccb=7-5&ig_cache_key=MzAyODY0ODY3Njk2OTkzNjIyMQ%3D%3D.2-ccb7-5&oh=00_AfCC7O8cVbjx8nBAF4dUth1l44X8IEysyLhRPa8J68x5dQ&oe=63DF3ACE&_nc_sid=4cb768',\n",
       " 'https://instagram.fccu2-2.fna.fbcdn.net/v/t51.2885-15/328317444_138762195456532_8832606937246424727_n.jpg?stp=dst-jpg_e35&_nc_ht=instagram.fccu2-2.fna.fbcdn.net&_nc_cat=104&_nc_ohc=hcsiwvw9dnwAX-Yh7zI&edm=AGyKU4gBAAAA&ccb=7-5&ig_cache_key=MzAyODY0ODYyODAzODU2OTMwNA%3D%3D.2-ccb7-5&oh=00_AfAFc41ou0IjBUAtuAjhgzUT5ubA7LCPm-RP9ud4FJMvaQ&oe=63E02CD2&_nc_sid=4cb768',\n",
       " 'https://instagram.fccu2-4.fna.fbcdn.net/v/t51.2885-15/328058407_1279535369575631_2063423948350811243_n.jpg?stp=dst-jpg_e35&_nc_ht=instagram.fccu2-4.fna.fbcdn.net&_nc_cat=111&_nc_ohc=HwgLlQ7vBAUAX-Udw4-&tn=02XRub5atHvxRwDR&edm=AGyKU4gBAAAA&ccb=7-5&ig_cache_key=MzAyODY0ODQwNTczMTAwODUxMw%3D%3D.2-ccb7-5&oh=00_AfDw1ICGc46EoJCOuiwBjZtSww9GD3_cwq_RGLfttK1Ddw&oe=63DF4E32&_nc_sid=4cb768',\n",
       " 'https://instagram.fccu2-3.fna.fbcdn.net/v/t39.30808-6/328440725_511182227793746_781069518398798689_n.jpg?stp=dst-jpg_e35_s1080x1080_sh0.08&_nc_ht=instagram.fccu2-3.fna.fbcdn.net&_nc_cat=102&_nc_ohc=hk_brZE_gE0AX9lVEQ1&edm=AGyKU4gAAAAA&ccb=7-5&ig_cache_key=MzAyODY0ODQ4MTYxNDY1MjY0OQ%3D%3D.2-ccb7-5&oh=00_AfBjYaysF3XUXSm-S5DioIgeMsf5yVfCLrdDdrDZBMm08A&oe=63DFD1C1&_nc_sid=4cb768',\n",
       " 'https://instagram.fccu2-2.fna.fbcdn.net/v/t51.2885-15/328162587_1220924452192693_3377723743859901_n.jpg?stp=dst-jpg_e15&_nc_ht=instagram.fccu2-2.fna.fbcdn.net&_nc_cat=101&_nc_ohc=qx2z2llSHRQAX8JhXPt&edm=AGyKU4gBAAAA&ccb=7-5&ig_cache_key=MzAyODY0ODQyMzAwNDU2MzgxNw%3D%3D.2-ccb7-5&oh=00_AfB77tQIxlpnAkaULUFPPnEP7uPQ10Z8AlfCUZbPK7jUGQ&oe=63DF99A0&_nc_sid=4cb768',\n",
       " 'https://instagram.fccu2-1.fna.fbcdn.net/v/t51.2885-15/327818680_136013609088586_8864624097441164103_n.jpg?stp=dst-jpg_e35&_nc_ht=instagram.fccu2-1.fna.fbcdn.net&_nc_cat=110&_nc_ohc=4j2awJSjeu4AX9YdjHp&edm=AGyKU4gBAAAA&ccb=7-5&ig_cache_key=MzAyODY0ODM0MTY2ODUxNTg3OQ%3D%3D.2-ccb7-5&oh=00_AfBNicbnwrQ_kig_dbz5vqPz7xxE52nJRQoJsXnGE6i3ww&oe=63DF9654&_nc_sid=4cb768',\n",
       " 'https://instagram.fccu2-4.fna.fbcdn.net/v/t51.2885-15/328559631_5952858024764117_3044321508079172709_n.jpg?stp=dst-jpg_e35&_nc_ht=instagram.fccu2-4.fna.fbcdn.net&_nc_cat=105&_nc_ohc=3nIerbOF9MQAX-gFzk7&edm=AGyKU4gBAAAA&ccb=7-5&ig_cache_key=MzAyODY0ODEzNjAxMjE4MjExOQ%3D%3D.2-ccb7-5&oh=00_AfDrjy5egqNKqSei4JNsNby9hPjOCK0Vref-TQ3fRpi2ww&oe=63DEF3B9&_nc_sid=4cb768',\n",
       " 'https://instagram.fccu2-3.fna.fbcdn.net/v/t51.2885-15/327725946_1144218016291428_3734618579875320462_n.webp?stp=dst-jpg_e35&_nc_ht=instagram.fccu2-3.fna.fbcdn.net&_nc_cat=100&_nc_ohc=7XhS_2Bt2HMAX8JaggU&edm=AGyKU4gBAAAA&ccb=7-5&ig_cache_key=MzAyODY0ODMyNzQyNDM3NjYxMw%3D%3D.2-ccb7-5&oh=00_AfAdi_YaAWnbm0zSuvrKdzmUOoug45LsifxQ4L2RXe-1cA&oe=63DF27E1&_nc_sid=4cb768',\n",
       " 'https://instagram.fccu2-1.fna.fbcdn.net/v/t51.2885-15/328107050_864734144643367_72117805605734108_n.jpg?stp=dst-jpg_e35&_nc_ht=instagram.fccu2-1.fna.fbcdn.net&_nc_cat=107&_nc_ohc=I3S1Zg8MvRkAX98CSWK&edm=AGyKU4gBAAAA&ccb=7-5&ig_cache_key=MzAyODY0ODI3MDI5MDE3NTI3MA%3D%3D.2-ccb7-5&oh=00_AfCziN0sqQ6-XspPbzUGyKa2yFqx1guvRiB8J2riA0ULKw&oe=63DF4533&_nc_sid=4cb768',\n",
       " 'https://instagram.fccu2-2.fna.fbcdn.net/v/t51.2885-15/328450363_500453435501845_4618392097196424600_n.webp?stp=dst-jpg_e35&_nc_ht=instagram.fccu2-2.fna.fbcdn.net&_nc_cat=101&_nc_ohc=T-rrODLFA1wAX9ri2EI&tn=02XRub5atHvxRwDR&edm=AGyKU4gBAAAA&ccb=7-5&ig_cache_key=MzAyODY0Nzg0NDI3OTMwNzAwMw%3D%3D.2-ccb7-5&oh=00_AfCgeeRGE8oxGY9a7o5QSLzvyRo-sLLfXN13JVKxe5EeIg&oe=63DFC41E&_nc_sid=4cb768',\n",
       " 'https://instagram.fccu2-1.fna.fbcdn.net/v/t51.2885-15/328521063_601974745088671_624394727151702174_n.jpg?stp=dst-jpg_e15&_nc_ht=instagram.fccu2-1.fna.fbcdn.net&_nc_cat=107&_nc_ohc=Ei9tHQOz5JgAX8j9d3B&edm=AGyKU4gBAAAA&ccb=7-5&ig_cache_key=MzAyODE0NTAyNjI0NDY5MTg1NA%3D%3D.2-ccb7-5&oh=00_AfAyIwIHrCS74848sFH80RxfKtfYS148qCYrqrp6uCkqhQ&oe=63DF58DF&_nc_sid=4cb768',\n",
       " 'https://instagram.fccu2-3.fna.fbcdn.net/v/t51.2885-15/325825764_1346771926176228_1027838630661427711_n.jpg?stp=dst-jpg_e35&_nc_ht=instagram.fccu2-3.fna.fbcdn.net&_nc_cat=100&_nc_ohc=okMS3hfcOmUAX-NX9oY&edm=AGyKU4gBAAAA&ccb=7-5&ig_cache_key=MzAxODUxMzU2MjAxNTc0NzY1MA%3D%3D.2-ccb7-5&oh=00_AfBwMdBgNNMln3B5wCbB56dgOA4AxqZqkdXggeqLTlDHLw&oe=63DEE694&_nc_sid=4cb768',\n",
       " 'https://instagram.fccu2-3.fna.fbcdn.net/v/t51.2885-15/325713393_2308348982676194_8218163321717540877_n.jpg?stp=dst-jpg_e35&_nc_ht=instagram.fccu2-3.fna.fbcdn.net&_nc_cat=102&_nc_ohc=ChmXHfHG4OsAX813xE-&tn=02XRub5atHvxRwDR&edm=AGyKU4gBAAAA&ccb=7-5&ig_cache_key=MzAxNzc5MTk0NzY2NTU5NDY3NA%3D%3D.2-ccb7-5&oh=00_AfD_horZJopeB8b-TWIpYlyW1MZNXYHb7Fioyu-lRfP2UQ&oe=63DF9B6F&_nc_sid=4cb768',\n",
       " 'https://instagram.fccu2-1.fna.fbcdn.net/v/t51.2885-15/167391769_465307421479858_3609635800232223736_n.jpg?stp=dst-jpg_e35&_nc_ht=instagram.fccu2-1.fna.fbcdn.net&_nc_cat=110&_nc_ohc=AtvUuW4n00YAX9E5ehv&edm=AGyKU4gBAAAA&ccb=7-5&ig_cache_key=MjU0MjQxMDE0NzEwNzU2MzA0NA%3D%3D.2-ccb7-5&oh=00_AfDXuGJj8KbBVaW7t2QC9CDRzvjlbE_eCkKL7OXg-DkYfg&oe=63E0115F&_nc_sid=4cb768',\n",
       " 'https://instagram.fccu2-1.fna.fbcdn.net/v/t51.2885-15/328351442_1172541426771070_6908520323557008419_n.webp?stp=dst-jpg_e35&_nc_ht=instagram.fccu2-1.fna.fbcdn.net&_nc_cat=110&_nc_ohc=4kSeX3PWAkoAX-ehKJH&edm=AMKDjl4BAAAA&ccb=7-5&ig_cache_key=MzAyODY0ODM5MDI0NTUzOTQ4NQ%3D%3D.2-ccb7-5&oh=00_AfBO-ec3SVZhLsy2KsMbO2XCnQXN4hQKSBaKpM-I-K4v6g&oe=63DE8077&_nc_sid=1fe099',\n",
       " 'https://instagram.fccu2-2.fna.fbcdn.net/v/t51.2885-15/328126419_761731334848876_5131918480995305524_n.webp?stp=dst-jpg_e35&_nc_ht=instagram.fccu2-2.fna.fbcdn.net&_nc_cat=104&_nc_ohc=YA_xgV1yqDkAX9Cq-hZ&tn=02XRub5atHvxRwDR&edm=AMKDjl4BAAAA&ccb=7-5&ig_cache_key=MzAyODY0ODM5MDAxOTI0NDg0Ng%3D%3D.2-ccb7-5&oh=00_AfBEG3du68yqxd7O-m2eKkJgfI8YUxDC8XhqtNjI5QR_Dg&oe=63E0107C&_nc_sid=1fe099',\n",
       " 'https://instagram.fccu2-1.fna.fbcdn.net/v/t51.2885-15/322523688_590305865826991_2200757359632611990_n.jpg?stp=dst-jpg_e35&_nc_ht=instagram.fccu2-1.fna.fbcdn.net&_nc_cat=107&_nc_ohc=8UGJjGawDXUAX95d-PO&tn=02XRub5atHvxRwDR&edm=AMKDjl4BAAAA&ccb=7-5&ig_cache_key=MzAyODY0ODIxODc5MTQwMTIxNw%3D%3D.2-ccb7-5&oh=00_AfAyj6iUepR9nF5hw43gQ1zOw1i5xsrnbEigVE7uxXlzOg&oe=63DFB7C9&_nc_sid=1fe099']"
      ]
     },
     "execution_count": 41,
     "metadata": {},
     "output_type": "execute_result"
    }
   ],
   "source": [
    "driver.execute_script(\"window.scrollTo(0,4000);\") # 0=start, 4000= approx 4times of our screen\n",
    "\n",
    "images = driver.find_elements(By.CSS_SELECTOR, \"img[crossorigin='anonymous']\")\n",
    "\n",
    "images = [image.get_attribute('src') for image in images] #getting the source code\n",
    "\n",
    "images"
   ]
  },
  {
   "cell_type": "markdown",
   "id": "b8695dcc",
   "metadata": {},
   "source": [
    "## Saving Images into Computer"
   ]
  },
  {
   "cell_type": "code",
   "execution_count": 43,
   "id": "8cde62a2",
   "metadata": {},
   "outputs": [
    {
     "data": {
      "text/plain": [
       "'C:\\\\Users\\\\rouna\\\\cats'"
      ]
     },
     "execution_count": 43,
     "metadata": {},
     "output_type": "execute_result"
    }
   ],
   "source": [
    "#create directory\n",
    "\n",
    "path = os.getcwd()\n",
    "path = os.path.join(path, keyword[1:] + 's')\n",
    "\n",
    "os.mkdir(path)\n",
    "path"
   ]
  },
  {
   "cell_type": "code",
   "execution_count": 44,
   "id": "79714ccc",
   "metadata": {},
   "outputs": [],
   "source": [
    "counter = 0\n",
    "\n",
    "for image in images:\n",
    "    save_as = os.path.join(path, keyword[1:] + str(counter) + '.jpg')\n",
    "    wget.download(image, save_as)\n",
    "    counter+=1\n",
    "    "
   ]
  }
 ],
 "metadata": {
  "kernelspec": {
   "display_name": "Python 3 (ipykernel)",
   "language": "python",
   "name": "python3"
  },
  "language_info": {
   "codemirror_mode": {
    "name": "ipython",
    "version": 3
   },
   "file_extension": ".py",
   "mimetype": "text/x-python",
   "name": "python",
   "nbconvert_exporter": "python",
   "pygments_lexer": "ipython3",
   "version": "3.9.13"
  }
 },
 "nbformat": 4,
 "nbformat_minor": 5
}
